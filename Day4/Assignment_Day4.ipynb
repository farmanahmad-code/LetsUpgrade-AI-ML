{
 "cells": [
  {
   "cell_type": "markdown",
   "metadata": {},
   "source": [
    "# Question 1\n",
    "\n",
    "Based on my research I found that floor division and modulo operations of complex numbers are not done in python. However both are mathematically possible and can be done by creating user defined functions but I assume it is beyond the scope of this assignment "
   ]
  },
  {
   "cell_type": "code",
   "execution_count": 3,
   "metadata": {},
   "outputs": [
    {
     "name": "stdout",
     "output_type": "stream",
     "text": [
      "(5+1j)\n",
      "(-1+5j)\n",
      "(12+5j)\n",
      "1j\n"
     ]
    }
   ],
   "source": [
    "z1 = complex(2,3)\n",
    "z2 = complex(3,-2)\n",
    "print(z1+z2)\n",
    "print(z1-z2)\n",
    "print(z1*z2)\n",
    "print(z1/z2)"
   ]
  },
  {
   "cell_type": "markdown",
   "metadata": {},
   "source": [
    "# Question 2\n",
    "Range function returns a sequence of integers.\n",
    "It takes three possible arguments by default start,stop,step.\n",
    "Start is 0 by default and step(increment) is 1 by default"
   ]
  },
  {
   "cell_type": "code",
   "execution_count": 7,
   "metadata": {},
   "outputs": [
    {
     "name": "stdout",
     "output_type": "stream",
     "text": [
      "5\n",
      "8\n",
      "11\n",
      "14\n",
      "17\n"
     ]
    }
   ],
   "source": [
    "#Example of range\n",
    "for x in range(5,20,3):\n",
    "    print(x)"
   ]
  },
  {
   "cell_type": "markdown",
   "metadata": {},
   "source": [
    "# Question 3"
   ]
  },
  {
   "cell_type": "code",
   "execution_count": 12,
   "metadata": {},
   "outputs": [
    {
     "name": "stdout",
     "output_type": "stream",
     "text": [
      "3.3333333333333335\n",
      "96\n"
     ]
    }
   ],
   "source": [
    "def sub_function(a,b):\n",
    "    if a<b:\n",
    "        a = a+b\n",
    "        b = a-b\n",
    "        a = a-b\n",
    "    if a-b > 25:\n",
    "        print(a*b)\n",
    "    else:\n",
    "        print(a/b)\n",
    "        \n",
    "sub_function(10,3)\n",
    "sub_function(3,32)"
   ]
  },
  {
   "cell_type": "markdown",
   "metadata": {},
   "source": [
    "# Question 4"
   ]
  },
  {
   "cell_type": "code",
   "execution_count": 6,
   "metadata": {},
   "outputs": [
    {
     "name": "stdout",
     "output_type": "stream",
     "text": [
      "2\n",
      "14\n",
      "34\n",
      "62\n",
      "98\n"
     ]
    }
   ],
   "source": [
    "def div_by_2():\n",
    "    num_list = range(1,11)\n",
    "    for num in num_list:\n",
    "        if num%2 == 0:\n",
    "            print(num**2-2)\n",
    "div_by_2()"
   ]
  },
  {
   "cell_type": "markdown",
   "metadata": {},
   "source": [
    "# Question 5"
   ]
  },
  {
   "cell_type": "code",
   "execution_count": 11,
   "metadata": {},
   "outputs": [
    {
     "name": "stdout",
     "output_type": "stream",
     "text": [
      "15\n",
      "16\n",
      "17\n",
      "18\n",
      "19\n"
     ]
    }
   ],
   "source": [
    "def greater_than_7():\n",
    "    num_list = range(10,20)\n",
    "    for num in num_list:\n",
    "        if num/2 > 7:\n",
    "            print(num)\n",
    "greater_than_7()           "
   ]
  }
 ],
 "metadata": {
  "kernelspec": {
   "display_name": "Python 3",
   "language": "python",
   "name": "python3"
  },
  "language_info": {
   "codemirror_mode": {
    "name": "ipython",
    "version": 3
   },
   "file_extension": ".py",
   "mimetype": "text/x-python",
   "name": "python",
   "nbconvert_exporter": "python",
   "pygments_lexer": "ipython3",
   "version": "3.6.9"
  }
 },
 "nbformat": 4,
 "nbformat_minor": 2
}
