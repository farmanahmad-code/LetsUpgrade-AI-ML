{
 "cells": [
  {
   "cell_type": "markdown",
   "metadata": {},
   "source": [
    "# Question 1"
   ]
  },
  {
   "cell_type": "code",
   "execution_count": 5,
   "metadata": {},
   "outputs": [
    {
     "name": "stdout",
     "output_type": "stream",
     "text": [
      "(7+1j)\n"
     ]
    }
   ],
   "source": [
    "def add_complex(z1,z2):\n",
    "    return z1+z2\n",
    "z1 = complex(2,3)\n",
    "z2 = complex(5,-2)\n",
    "print(add_complex(z1,z2))"
   ]
  },
  {
   "cell_type": "markdown",
   "metadata": {},
   "source": [
    "#  Question 2"
   ]
  },
  {
   "cell_type": "code",
   "execution_count": 12,
   "metadata": {},
   "outputs": [
    {
     "name": "stdout",
     "output_type": "stream",
     "text": [
      "Fourth root of 20 = 2.114742526881128\n"
     ]
    }
   ],
   "source": [
    "def fourth_root(num):\n",
    "    return num**0.25\n",
    "num = 20\n",
    "print(\"Fourth root of {} = {}\".format(num,fourth_root(num)))"
   ]
  },
  {
   "cell_type": "markdown",
   "metadata": {},
   "source": [
    "# Question 3"
   ]
  },
  {
   "cell_type": "code",
   "execution_count": 16,
   "metadata": {},
   "outputs": [
    {
     "data": {
      "text/plain": [
       "(5, 4)"
      ]
     },
     "execution_count": 16,
     "metadata": {},
     "output_type": "execute_result"
    }
   ],
   "source": [
    "def swap(a,b):\n",
    "    temp = a\n",
    "    a = b\n",
    "    b = temp\n",
    "    return a,b\n",
    "a = 4\n",
    "b = 5\n",
    "swap(a,b)"
   ]
  },
  {
   "cell_type": "markdown",
   "metadata": {},
   "source": [
    "# Question 4"
   ]
  },
  {
   "cell_type": "code",
   "execution_count": 20,
   "metadata": {},
   "outputs": [
    {
     "data": {
      "text/plain": [
       "(5, 4)"
      ]
     },
     "execution_count": 20,
     "metadata": {},
     "output_type": "execute_result"
    }
   ],
   "source": [
    "def swap_without_temp(a,b):\n",
    "    a = a+b\n",
    "    b = a-b\n",
    "    a = a-b\n",
    "    return a,b\n",
    "a,b = 4,5\n",
    "swap_without_temp(a,b)"
   ]
  },
  {
   "cell_type": "markdown",
   "metadata": {},
   "source": [
    "# Question 5"
   ]
  },
  {
   "cell_type": "code",
   "execution_count": 23,
   "metadata": {},
   "outputs": [
    {
     "name": "stdout",
     "output_type": "stream",
     "text": [
      "Temp in kelvin = 310.92777777777775\n",
      "Temp in celsius = 37.77777777777778\n"
     ]
    }
   ],
   "source": [
    "def convert_temp(temp):\n",
    "    temp_kelvin = (temp-32)*5/9+273.15\n",
    "    temp_celsius = (temp-32)*5/9\n",
    "    print(\"Temp in kelvin = \"+str(temp_kelvin))\n",
    "    print(\"Temp in celsius = \"+str(temp_celsius))\n",
    "convert_temp(100)"
   ]
  },
  {
   "cell_type": "markdown",
   "metadata": {},
   "source": [
    "# Question 6"
   ]
  },
  {
   "cell_type": "code",
   "execution_count": 29,
   "metadata": {},
   "outputs": [
    {
     "name": "stdout",
     "output_type": "stream",
     "text": [
      "5 <class 'int'>\n",
      "(5+2j) <class 'complex'>\n",
      "4.65 <class 'float'>\n",
      "Farman <class 'str'>\n",
      "[1, 2, 3, 'a'] <class 'list'>\n",
      "(1, 2, 3, 'a') <class 'tuple'>\n",
      "{'a': 1, 'b': 2, 'c': 6, 10: 'orange'} <class 'dict'>\n"
     ]
    }
   ],
   "source": [
    "def data_types():\n",
    "    num = 5\n",
    "    print(num,type(num))\n",
    "    c = complex(5,2)\n",
    "    print(c,type(c))\n",
    "    decimal = 4.65\n",
    "    print(decimal,type(decimal))\n",
    "    string = \"Farman\"\n",
    "    print(string,type(string))\n",
    "    l = [1,2,3,'a']\n",
    "    print(l,type(l))\n",
    "    t = (1,2,3,'a')\n",
    "    print(t,type(t))\n",
    "    d = {'a': 1,'b': 2,'c': 6, 10 : 'orange'}\n",
    "    print(d,type(d))\n",
    "data_types()"
   ]
  },
  {
   "cell_type": "markdown",
   "metadata": {},
   "source": [
    "# Question 7\n",
    "# Steps to Create a Github profile and upload assignments\n",
    "1. Open github and click on signup and create a profile like on gmail.\n",
    "2. Click on New and name the repository as LetsUpgrade AI ML and click on create without making any changes in the default settings.\n",
    "3. Create a folder on your local machine named as Day3 and save your python notebook in that folder.\n",
    "4. In the repository click on upload an existing file and drag and drop Day3 folder and click on commit changes."
   ]
  }
 ],
 "metadata": {
  "kernelspec": {
   "display_name": "Python 3",
   "language": "python",
   "name": "python3"
  },
  "language_info": {
   "codemirror_mode": {
    "name": "ipython",
    "version": 3
   },
   "file_extension": ".py",
   "mimetype": "text/x-python",
   "name": "python",
   "nbconvert_exporter": "python",
   "pygments_lexer": "ipython3",
   "version": "3.6.9"
  }
 },
 "nbformat": 4,
 "nbformat_minor": 2
}
